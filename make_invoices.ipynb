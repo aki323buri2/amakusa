{
 "cells": [
  {
   "cell_type": "code",
   "execution_count": null,
   "metadata": {},
   "outputs": [],
   "source": [
    "from utilities.common import * \n",
    "import shutil \n",
    "from openpyxl import load_workbook\n",
    "import win32com.client \n",
    "import time\n",
    "def log(*s): print(*s)\n",
    "\n",
    "st = date(2023, 8, 1)\n",
    "ed = date(2024, 7, 1)\n",
    "st, ed = [x + relativedelta(day=31) for x in (st, ed)]\n",
    "st, ed"
   ]
  },
  {
   "cell_type": "code",
   "execution_count": null,
   "metadata": {},
   "outputs": [],
   "source": [
    "\n",
    "template = fullpath(\"template\")\n",
    "src = template / \"Book1.xlsx\"\n",
    "output = ensure_dir(fullpath(\"output\") / \"_\".join([\n",
    "  \"rent\", \n",
    "  \"-\".join([x.strftime('%Y%m%d') for x in (st, ed)]), \n",
    "])) \n",
    "pdfroot = ensure_dir(output / \"pdf\")\n"
   ]
  },
  {
   "cell_type": "code",
   "execution_count": null,
   "metadata": {},
   "outputs": [],
   "source": [
    "\n",
    "d = st\n",
    "\n",
    "HAKOB_CELL = \"M1\"\n",
    "SEQNO_CELL = \"M2\" \n",
    "KENMEI_CELL = \"C7\" \n",
    "HINMEI_CELL = \"C14\" \n",
    "BIKO_CELL = \"A32\"\n",
    "\n",
    "while d <= ed: \n",
    "  day = d + relativedelta(day=31)\n",
    "  log(\"*\"*10, \"process\", day, \"doing...\")\n",
    "  \n",
    "  sheetname = day.strftime('%Y年%m月分')\n",
    "  hakob = day \n",
    "  seqno = (day + relativedelta(day=31)).strftime('%Y%m%d001')\n",
    "  kenmei = day.strftime('%Y年%m月分家賃')\n",
    "  hinmei = day.strftime('%Y年%m月分家賃')\n",
    "  biko = \"\\n\".join([\n",
    "    \"※賃貸物件住所：　〒863-0022 天草市栄町15-20\", \n",
    "    f\"※受領日：{day.strftime('%Y年%m月%d日')}\", \n",
    "  ])\n",
    "\n",
    "  filename = shutil.copy2(src, output / day.strftime(\"天草物件家賃領収書_%Y年%m月分.xlsx\"))\n",
    "\n",
    "  log(\"making...\", filename.relative_to(filename.parents[1]), \"doing...\")\n",
    "  # https://qiita.com/studio_haneya/items/7e49b616d4972fe1804d\n",
    "  wb = load_workbook(filename)\n",
    "  ws = wb.active\n",
    "  ws.title = sheetname\n",
    "  ws[HAKOB_CELL].value = hakob \n",
    "  ws[SEQNO_CELL].value = seqno \n",
    "  ws[KENMEI_CELL].value = kenmei \n",
    "  ws[HINMEI_CELL].value = hinmei\n",
    "  ws[BIKO_CELL].value = biko\n",
    "  wb.save(filename)\n",
    "  log(\"making...\", filename.relative_to(filename.parents[1]), \"done!!\")\n",
    "\n",
    "  # https://zenn.dev/terashii/articles/5d82acb8fdda5d\n",
    "  try:\n",
    "    pdfname = (pdfroot / filename.name).with_suffix(\".pdf\")\n",
    "    log(\"export\", filename.name, \"to\", pdfname.name, \"doing...\")\n",
    "    app = win32com.client.Dispatch(\"Excel.Application\")\n",
    "    # app.Visible = True \n",
    "    app.DisplayAlerts = False \n",
    "    book = app.Workbooks.Open(filename)\n",
    "    time.sleep(1)\n",
    "    xlTypePDF = 0\n",
    "    book.ExportAsFixedFormat(xlTypePDF, str(pdfname))\n",
    "    app.Quit()\n",
    "    log(\"export\", filename.name, \"to\", pdfname.name, \"done!!\")\n",
    "  except Exception as e:\n",
    "    log(\"!\"*10, e)\n",
    "  finally: \n",
    "    app.Quit()\n",
    "\n",
    "  time.sleep(1)\n",
    "  log(\"*\"*10, \"process\", day, \"done!!\")\n",
    "  log(\"\")\n",
    "  d += relativedelta(months=1)\n"
   ]
  },
  {
   "cell_type": "code",
   "execution_count": null,
   "metadata": {},
   "outputs": [],
   "source": [
    "import shutil \n",
    "shutil.make_archive(\n",
    "  output, \n",
    "  format=\"zip\", \n",
    "  root_dir=pdfroot)"
   ]
  },
  {
   "cell_type": "code",
   "execution_count": null,
   "metadata": {},
   "outputs": [],
   "source": []
  }
 ],
 "metadata": {
  "kernelspec": {
   "display_name": ".venv",
   "language": "python",
   "name": "python3"
  },
  "language_info": {
   "codemirror_mode": {
    "name": "ipython",
    "version": 3
   },
   "file_extension": ".py",
   "mimetype": "text/x-python",
   "name": "python",
   "nbconvert_exporter": "python",
   "pygments_lexer": "ipython3",
   "version": "3.11.6"
  },
  "orig_nbformat": 4
 },
 "nbformat": 4,
 "nbformat_minor": 2
}
